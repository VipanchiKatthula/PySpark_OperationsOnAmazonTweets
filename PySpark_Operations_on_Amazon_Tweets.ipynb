{
  "nbformat": 4,
  "nbformat_minor": 0,
  "metadata": {
    "colab": {
      "name": "PySpark_Operations_on_Amazon_Tweets.ipynb",
      "provenance": [],
      "collapsed_sections": [],
      "authorship_tag": "ABX9TyMEsf29krDLefzZZxBQ2FC9",
      "include_colab_link": true
    },
    "kernelspec": {
      "name": "python3",
      "display_name": "Python 3"
    }
  },
  "cells": [
    {
      "cell_type": "markdown",
      "metadata": {
        "id": "view-in-github",
        "colab_type": "text"
      },
      "source": [
        "<a href=\"https://colab.research.google.com/github/VipanchiKatthula/PySpark_OperationsOnAmazonTweets/blob/master/PySpark_Operations_on_Amazon_Tweets.ipynb\" target=\"_parent\"><img src=\"https://colab.research.google.com/assets/colab-badge.svg\" alt=\"Open In Colab\"/></a>"
      ]
    },
    {
      "cell_type": "code",
      "metadata": {
        "id": "kO0wIZfSaUHY",
        "colab_type": "code",
        "outputId": "d419fa6e-469c-45ae-8c05-ae0d1cfd7164",
        "colab": {
          "base_uri": "https://localhost:8080/",
          "height": 125
        }
      },
      "source": [
        "from google.colab import drive\n",
        "drive.mount('/content/drive')"
      ],
      "execution_count": 8,
      "outputs": [
        {
          "output_type": "stream",
          "text": [
            "Go to this URL in a browser: https://accounts.google.com/o/oauth2/auth?client_id=947318989803-6bn6qk8qdgf4n4g3pfee6491hc0brc4i.apps.googleusercontent.com&redirect_uri=urn%3aietf%3awg%3aoauth%3a2.0%3aoob&response_type=code&scope=email%20https%3a%2f%2fwww.googleapis.com%2fauth%2fdocs.test%20https%3a%2f%2fwww.googleapis.com%2fauth%2fdrive%20https%3a%2f%2fwww.googleapis.com%2fauth%2fdrive.photos.readonly%20https%3a%2f%2fwww.googleapis.com%2fauth%2fpeopleapi.readonly\n",
            "\n",
            "Enter your authorization code:\n",
            "··········\n",
            "Mounted at /content/drive\n"
          ],
          "name": "stdout"
        }
      ]
    },
    {
      "cell_type": "code",
      "metadata": {
        "id": "gpug2kqWfduH",
        "colab_type": "code",
        "colab": {}
      },
      "source": [
        "!apt-get install openjdk-8-jdk-headless -qq > /dev/null   #Install Spark"
      ],
      "execution_count": 0,
      "outputs": []
    },
    {
      "cell_type": "code",
      "metadata": {
        "id": "JzZYMYHfidR4",
        "colab_type": "code",
        "colab": {}
      },
      "source": [
        "!wget -q http://apache.mirrors.pair.com/spark/spark-2.4.5/spark-2.4.5-bin-hadoop2.7.tgz  #Get Spark Insatller"
      ],
      "execution_count": 0,
      "outputs": []
    },
    {
      "cell_type": "code",
      "metadata": {
        "id": "8BZjU3-CiewN",
        "colab_type": "code",
        "colab": {}
      },
      "source": [
        "!tar -xvf spark-2.4.5-bin-hadoop2.7.tgz  #Untar Spark installer"
      ],
      "execution_count": 0,
      "outputs": []
    },
    {
      "cell_type": "markdown",
      "metadata": {
        "id": "WcQY55aVlVvR",
        "colab_type": "text"
      },
      "source": [
        "***Install findspark - a python library to find Spark***"
      ]
    },
    {
      "cell_type": "code",
      "metadata": {
        "id": "x5vy-2U9hx9U",
        "colab_type": "code",
        "colab": {}
      },
      "source": [
        "!pip install -q findspark   "
      ],
      "execution_count": 0,
      "outputs": []
    },
    {
      "cell_type": "markdown",
      "metadata": {
        "id": "bIj-xZsMlQc_",
        "colab_type": "text"
      },
      "source": [
        "***Setting environmental Variables***"
      ]
    },
    {
      "cell_type": "code",
      "metadata": {
        "id": "2wrEaNy4f64d",
        "colab_type": "code",
        "colab": {}
      },
      "source": [
        "import os\n",
        "os.environ[\"JAVA_HOME\"] = \"/usr/lib/jvm/java-8-openjdk-amd64\"\n",
        "os.environ[\"SPARK_HOME\"] = \"/content/spark-2.4.5-bin-hadoop2.7\""
      ],
      "execution_count": 0,
      "outputs": []
    },
    {
      "cell_type": "markdown",
      "metadata": {
        "id": "oLHBDXQIlOZi",
        "colab_type": "text"
      },
      "source": [
        "***Create a local Spark session***"
      ]
    },
    {
      "cell_type": "code",
      "metadata": {
        "id": "azg787TresjW",
        "colab_type": "code",
        "colab": {}
      },
      "source": [
        "import findspark\n",
        "findspark.init()\n",
        "from pyspark.sql import SparkSession\n",
        "spark = SparkSession.builder.master(\"local[*]\").getOrCreate()"
      ],
      "execution_count": 0,
      "outputs": []
    },
    {
      "cell_type": "markdown",
      "metadata": {
        "id": "U6XKUoxwlGuw",
        "colab_type": "text"
      },
      "source": [
        "***Importing data and Selecting required columns***"
      ]
    },
    {
      "cell_type": "code",
      "metadata": {
        "id": "nd2yH449bY6z",
        "colab_type": "code",
        "colab": {}
      },
      "source": [
        "data = spark.read.format(\"csv\").option(\"header\",\"true\").load(\"drive/My\\ Drive/Colab\\ Notebooks/Data/Amazon_Responded_Oct05.csv\")\n",
        "data1 = data.select(\"id_str\",'tweet_created_at','user_verified','favorite_count','retweet_count','text')"
      ],
      "execution_count": 0,
      "outputs": []
    },
    {
      "cell_type": "code",
      "metadata": {
        "id": "8nK95ACGmLqX",
        "colab_type": "code",
        "colab": {
          "base_uri": "https://localhost:8080/",
          "height": 34
        },
        "outputId": "71f8b7c5-42f4-483e-d205-24965889e434"
      },
      "source": [
        "data1.count() #Number of rows in data"
      ],
      "execution_count": 18,
      "outputs": [
        {
          "output_type": "execute_result",
          "data": {
            "text/plain": [
              "413247"
            ]
          },
          "metadata": {
            "tags": []
          },
          "execution_count": 18
        }
      ]
    },
    {
      "cell_type": "code",
      "metadata": {
        "id": "UX6ROJl9mpVI",
        "colab_type": "code",
        "colab": {
          "base_uri": "https://localhost:8080/",
          "height": 123
        },
        "outputId": "0cc30f14-d6b3-4b34-b3e3-3e741ad6b6b8"
      },
      "source": [
        "data1.columns"
      ],
      "execution_count": 189,
      "outputs": [
        {
          "output_type": "execute_result",
          "data": {
            "text/plain": [
              "['id_str',\n",
              " 'tweet_created_at',\n",
              " 'user_verified',\n",
              " 'favorite_count',\n",
              " 'retweet_count',\n",
              " 'text']"
            ]
          },
          "metadata": {
            "tags": []
          },
          "execution_count": 189
        }
      ]
    },
    {
      "cell_type": "code",
      "metadata": {
        "id": "M1NldDVFQmgm",
        "colab_type": "code",
        "colab": {
          "base_uri": "https://localhost:8080/",
          "height": 34
        },
        "outputId": "92fd4b4d-bc78-47ee-a12d-931ee5fd71c2"
      },
      "source": [
        "types = [f.dataType for f in data1.schema.fields]\n",
        "types"
      ],
      "execution_count": 190,
      "outputs": [
        {
          "output_type": "execute_result",
          "data": {
            "text/plain": [
              "[StringType, StringType, StringType, StringType, StringType, StringType]"
            ]
          },
          "metadata": {
            "tags": []
          },
          "execution_count": 190
        }
      ]
    },
    {
      "cell_type": "code",
      "metadata": {
        "id": "hZCmuuiUjm2H",
        "colab_type": "code",
        "colab": {
          "base_uri": "https://localhost:8080/",
          "height": 34
        },
        "outputId": "7b44933b-9b3e-4fdd-dd53-416cfcd812d6"
      },
      "source": [
        "dat_filtered = data1.filter(data1.user_verified == 'True')\n",
        "dat_filtered.count() #Selecting only those tweets with vaild/verified users"
      ],
      "execution_count": 191,
      "outputs": [
        {
          "output_type": "execute_result",
          "data": {
            "text/plain": [
              "171797"
            ]
          },
          "metadata": {
            "tags": []
          },
          "execution_count": 191
        }
      ]
    },
    {
      "cell_type": "code",
      "metadata": {
        "id": "t1t_XsUZpq8K",
        "colab_type": "code",
        "colab": {
          "base_uri": "https://localhost:8080/",
          "height": 123
        },
        "outputId": "8109afa3-f1e6-4193-d545-0291c74bdae8"
      },
      "source": [
        "dat_filtered.select(\"user_verified\").distinct().show()"
      ],
      "execution_count": 192,
      "outputs": [
        {
          "output_type": "stream",
          "text": [
            "+-------------+\n",
            "|user_verified|\n",
            "+-------------+\n",
            "|         True|\n",
            "+-------------+\n",
            "\n"
          ],
          "name": "stdout"
        }
      ]
    },
    {
      "cell_type": "code",
      "metadata": {
        "id": "NKKDQNfCm43E",
        "colab_type": "code",
        "colab": {
          "base_uri": "https://localhost:8080/",
          "height": 212
        },
        "outputId": "415a4784-89ae-4054-8785-20422d7328fa"
      },
      "source": [
        "dat_filtered.select(\"tweet_created_at\").show(5,False)"
      ],
      "execution_count": 193,
      "outputs": [
        {
          "output_type": "stream",
          "text": [
            "+------------------------------+\n",
            "|tweet_created_at              |\n",
            "+------------------------------+\n",
            "|Tue Nov 01 02:39:55 +0000 2016|\n",
            "|Tue Nov 01 17:19:57 +0000 2016|\n",
            "|Tue Nov 01 17:25:26 +0000 2016|\n",
            "|Tue Nov 01 18:02:03 +0000 2016|\n",
            "|Tue Nov 01 03:59:02 +0000 2016|\n",
            "+------------------------------+\n",
            "only showing top 5 rows\n",
            "\n"
          ],
          "name": "stdout"
        }
      ]
    },
    {
      "cell_type": "code",
      "metadata": {
        "id": "xwqFD9WK7xIk",
        "colab_type": "code",
        "colab": {
          "base_uri": "https://localhost:8080/",
          "height": 212
        },
        "outputId": "ed72d2ec-0df1-4b21-98a3-77db0ea38194"
      },
      "source": [
        "from pyspark.sql.functions import split\n",
        "a = split(dat_filtered[\"tweet_created_at\"], ' ')\n",
        "dat_filtered1 = dat_filtered.withColumn('Month', a.getItem(1))\n",
        "dat_filtered1 = dat_filtered1.withColumn('Date', a.getItem(2))\n",
        "dat_filtered1 = dat_filtered1.withColumn('Year', a.getItem(5))\n",
        "dat_filtered1.show(5)\n"
      ],
      "execution_count": 194,
      "outputs": [
        {
          "output_type": "stream",
          "text": [
            "+--------------------+--------------------+-------------+--------------+-------------+--------------------+-----+----+----+\n",
            "|              id_str|    tweet_created_at|user_verified|favorite_count|retweet_count|                text|Month|Date|Year|\n",
            "+--------------------+--------------------+-------------+--------------+-------------+--------------------+-----+----+----+\n",
            "|'793281386912354304'|Tue Nov 01 02:39:...|         True|             0|            0|                null|  Nov|  01|2016|\n",
            "|'793502854459879424'|Tue Nov 01 17:19:...|         True|             0|            0|@SeanEPanjab Plea...|  Nov|  01|2016|\n",
            "|'793504235400884224'|Tue Nov 01 17:25:...|         True|             0|            0|                null|  Nov|  01|2016|\n",
            "|'793513446633533440'|Tue Nov 01 18:02:...|         True|             0|            0|@SeanEPanjab I'm ...|  Nov|  01|2016|\n",
            "|'793301295255945216'|Tue Nov 01 03:59:...|         True|             0|            0|                null|  Nov|  01|2016|\n",
            "+--------------------+--------------------+-------------+--------------+-------------+--------------------+-----+----+----+\n",
            "only showing top 5 rows\n",
            "\n"
          ],
          "name": "stdout"
        }
      ]
    },
    {
      "cell_type": "code",
      "metadata": {
        "id": "xHqNNyBrD5I9",
        "colab_type": "code",
        "colab": {
          "base_uri": "https://localhost:8080/",
          "height": 212
        },
        "outputId": "e284e0d8-503a-4ee0-d039-a7434e0991dc"
      },
      "source": [
        "a = dat_filtered1.select(concat(col(\"Month\"), lit(\" \"), col(\"Date\"),lit(\" \"), col(\"Year\")).alias(\"Date\"))\n",
        "a.show(5)"
      ],
      "execution_count": 195,
      "outputs": [
        {
          "output_type": "stream",
          "text": [
            "+-----------+\n",
            "|       Date|\n",
            "+-----------+\n",
            "|Nov 01 2016|\n",
            "|Nov 01 2016|\n",
            "|Nov 01 2016|\n",
            "|Nov 01 2016|\n",
            "|Nov 01 2016|\n",
            "+-----------+\n",
            "only showing top 5 rows\n",
            "\n"
          ],
          "name": "stdout"
        }
      ]
    },
    {
      "cell_type": "code",
      "metadata": {
        "id": "5cwqBWaYAQKp",
        "colab_type": "code",
        "colab": {
          "base_uri": "https://localhost:8080/",
          "height": 212
        },
        "outputId": "e0a62e08-da11-4e37-f471-301a4ccd71bd"
      },
      "source": [
        "import pyspark.sql.functions as sq \n",
        "#from pyspark.sql import functions as sf\n",
        "\n",
        "df = dat_filtered1.withColumn(\"tweet_created_at\",sq.concat(col(\"Month\"), sq.lit(\" \"), sq.col(\"Date\"),sq.lit(\" \"), sq.col(\"Year\")))\n",
        "df = df.select('id_str','tweet_created_at','user_verified',df.favorite_count.cast('int'), df.retweet_count.cast('int'),'text')\n",
        "df.show(5)"
      ],
      "execution_count": 208,
      "outputs": [
        {
          "output_type": "stream",
          "text": [
            "+--------------------+----------------+-------------+--------------+-------------+--------------------+\n",
            "|              id_str|tweet_created_at|user_verified|favorite_count|retweet_count|                text|\n",
            "+--------------------+----------------+-------------+--------------+-------------+--------------------+\n",
            "|'793281386912354304'|     Nov 01 2016|         True|             0|            0|                null|\n",
            "|'793502854459879424'|     Nov 01 2016|         True|             0|            0|@SeanEPanjab Plea...|\n",
            "|'793504235400884224'|     Nov 01 2016|         True|             0|            0|                null|\n",
            "|'793513446633533440'|     Nov 01 2016|         True|             0|            0|@SeanEPanjab I'm ...|\n",
            "|'793301295255945216'|     Nov 01 2016|         True|             0|            0|                null|\n",
            "+--------------------+----------------+-------------+--------------+-------------+--------------------+\n",
            "only showing top 5 rows\n",
            "\n"
          ],
          "name": "stdout"
        }
      ]
    },
    {
      "cell_type": "code",
      "metadata": {
        "id": "YYecXFrPRf8t",
        "colab_type": "code",
        "colab": {
          "base_uri": "https://localhost:8080/",
          "height": 34
        },
        "outputId": "60e71442-28ec-4638-ab38-2f759234aafa"
      },
      "source": [
        "types = [f.dataType for f in df.schema.fields]\n",
        "types"
      ],
      "execution_count": 209,
      "outputs": [
        {
          "output_type": "execute_result",
          "data": {
            "text/plain": [
              "[StringType, StringType, StringType, IntegerType, IntegerType, StringType]"
            ]
          },
          "metadata": {
            "tags": []
          },
          "execution_count": 209
        }
      ]
    },
    {
      "cell_type": "code",
      "metadata": {
        "id": "L93uezclus6n",
        "colab_type": "code",
        "colab": {
          "base_uri": "https://localhost:8080/",
          "height": 212
        },
        "outputId": "936d1338-9dba-425c-d659-0f4fd5a4b6ef"
      },
      "source": [
        "counts = df.groupby(df.tweet_created_at).agg(sq.count('id_str').alias(\"count_of_tweets\"))\n",
        "counts.show(5)"
      ],
      "execution_count": 206,
      "outputs": [
        {
          "output_type": "stream",
          "text": [
            "+----------------+---------------+\n",
            "|tweet_created_at|count_of_tweets|\n",
            "+----------------+---------------+\n",
            "|     Dec 01 2016|            875|\n",
            "|     Dec 25 2016|            433|\n",
            "|     Feb 08 2017|            926|\n",
            "|     Feb 19 2017|            725|\n",
            "|     Mar 30 2017|           1109|\n",
            "+----------------+---------------+\n",
            "only showing top 5 rows\n",
            "\n"
          ],
          "name": "stdout"
        }
      ]
    },
    {
      "cell_type": "code",
      "metadata": {
        "id": "0Zw008cyxPa-",
        "colab_type": "code",
        "colab": {
          "base_uri": "https://localhost:8080/",
          "height": 194
        },
        "outputId": "df47fd96-f492-46f8-d17b-4c8f4aa19dcc"
      },
      "source": [
        "conf = pyspark.SparkConf()\n",
        "sc = pyspark.SparkContext.getOrCreate(conf=conf)\n",
        "from pyspark.sql import SQLContext\n",
        "sqlcontext = SQLContext(sc)\n",
        "\n",
        "counts.registerTempTable(\"tmpcounts\")\n",
        "counts_ordered = sqlcontext.sql(\"SELECT * FROM tmpcounts order by count_of_tweets desc limit 5\")\n",
        "counts_ordered.show()"
      ],
      "execution_count": 210,
      "outputs": [
        {
          "output_type": "stream",
          "text": [
            "+----------------+---------------+\n",
            "|tweet_created_at|count_of_tweets|\n",
            "+----------------+---------------+\n",
            "|     Jan 03 2017|           1536|\n",
            "|     Jan 10 2017|           1508|\n",
            "|     Jan 11 2017|           1496|\n",
            "|     Jan 12 2017|           1410|\n",
            "|     Jan 06 2017|           1364|\n",
            "+----------------+---------------+\n",
            "\n"
          ],
          "name": "stdout"
        }
      ]
    },
    {
      "cell_type": "code",
      "metadata": {
        "id": "ktp2XqMXMEKQ",
        "colab_type": "code",
        "colab": {
          "base_uri": "https://localhost:8080/",
          "height": 301
        },
        "outputId": "5e3aa471-1f55-493b-8fa2-a994fd17651f"
      },
      "source": [
        "df.registerTempTable(\"tmpdf\")\n",
        "#df2 = df.withColumn(\"favourite_count\", \"favourite_count\" cast \"Int\")\n",
        "sum_retweets = sqlcontext.sql(\"SELECT text,favorite_count+ retweet_count as total from tmpdf where tweet_created_at = 'Jan 03 2017' order by total desc limit 100\")\n",
        "sum_retweets.show(10,False)"
      ],
      "execution_count": 227,
      "outputs": [
        {
          "output_type": "stream",
          "text": [
            "+--------------------------------------------------------------------------------------------------------------------------------------------+-----+\n",
            "|text                                                                                                                                        |total|\n",
            "+--------------------------------------------------------------------------------------------------------------------------------------------+-----+\n",
            "|null                                                                                                                                        |5    |\n",
            "|null                                                                                                                                        |3    |\n",
            "|@ItsJosshA Oh no! I'm sorry! Please reach out to us so that we can look into options: https://t.co/hApLpMlfHN. ^JO                          |2    |\n",
            "|null                                                                                                                                        |2    |\n",
            "|null                                                                                                                                        |2    |\n",
            "|null                                                                                                                                        |2    |\n",
            "|@ThorpPerrow Awww! Happy Birthday, you don't look a day over 20 ;-) .Pass on your details here: https://t.co/g52MRb0AOt for lil surprise ^RS|2    |\n",
            "|@thedexterouz Hi! We'd like to help. When you have a moment, please connect with us here:  https://t.co/vlvfJr4nN9 ^YP                      |2    |\n",
            "|null                                                                                                                                        |1    |\n",
            "|@VlSlT Sorry to hear that, contact us here: https://t.co/hApLpMlfHN and we'll look into it for you. ^AS                                     |1    |\n",
            "+--------------------------------------------------------------------------------------------------------------------------------------------+-----+\n",
            "only showing top 10 rows\n",
            "\n"
          ],
          "name": "stdout"
        }
      ]
    },
    {
      "cell_type": "markdown",
      "metadata": {
        "id": "6x1En5ThVIEo",
        "colab_type": "text"
      },
      "source": [
        "***Task -2***"
      ]
    },
    {
      "cell_type": "code",
      "metadata": {
        "id": "gcJvi2WVVHay",
        "colab_type": "code",
        "colab": {
          "base_uri": "https://localhost:8080/",
          "height": 212
        },
        "outputId": "8e1aa39c-44cb-48bc-99a9-0448ed3a6ea0"
      },
      "source": [
        "finddata = spark.read.format(\"csv\").option(\"header\",\"true\").load(\"drive/My\\ Drive/Colab\\ Notebooks/Data/find_text.csv\")\n",
        "finddata.show(5,False)"
      ],
      "execution_count": 230,
      "outputs": [
        {
          "output_type": "stream",
          "text": [
            "+--------------------+----+\n",
            "|id_str              |text|\n",
            "+--------------------+----+\n",
            "|'793270689780203520'|null|\n",
            "|'793281386912354304'|null|\n",
            "|'793299404975247360'|null|\n",
            "|'793301295255945216'|null|\n",
            "|'793315815411978240'|null|\n",
            "+--------------------+----+\n",
            "only showing top 5 rows\n",
            "\n"
          ],
          "name": "stdout"
        }
      ]
    },
    {
      "cell_type": "code",
      "metadata": {
        "id": "suYS4H5jVvg4",
        "colab_type": "code",
        "colab": {
          "base_uri": "https://localhost:8080/",
          "height": 212
        },
        "outputId": "eea0b5e8-1996-4007-bf1f-5e1d8530526a"
      },
      "source": [
        "finddata.registerTempTable(\"ids\")\n",
        "data.registerTempTable(\"tweets\")\n",
        "\n",
        "out = sqlcontext.sql(\"SELECT DISTINCT I.id_str,T.text from ids I JOIN tweets T on I.id_str = T.id_str\")\n",
        "out.show(5,False)"
      ],
      "execution_count": 237,
      "outputs": [
        {
          "output_type": "stream",
          "text": [
            "+--------------------+-----------------------------------------------------------------------------------------------------------------------------------------+\n",
            "|id_str              |text                                                                                                                                     |\n",
            "+--------------------+-----------------------------------------------------------------------------------------------------------------------------------------+\n",
            "|'793382930085253121'|@mybharatraj Hi! Sorry about that. I'd like our team to look into this, please reach out to us via: https://t.co/vlvfJr4nN9 ^SG          |\n",
            "|'793533066157387776'|@flamablebrownie When checking your account, are you signed into the email that was used to place the order: https://t.co/aaDyEz1VgE? ^HB|\n",
            "|'793552243689676800'|null                                                                                                                                     |\n",
            "|'793595479116439552'|null                                                                                                                                     |\n",
            "|'793751757247619072'|null                                                                                                                                     |\n",
            "+--------------------+-----------------------------------------------------------------------------------------------------------------------------------------+\n",
            "only showing top 5 rows\n",
            "\n"
          ],
          "name": "stdout"
        }
      ]
    },
    {
      "cell_type": "code",
      "metadata": {
        "id": "z2xaYqWKWbfh",
        "colab_type": "code",
        "colab": {
          "base_uri": "https://localhost:8080/",
          "height": 34
        },
        "outputId": "241b93c8-9ff6-4cd6-8465-d7404bfc1eb8"
      },
      "source": [
        "print(finddata.count(), data.count(),out.count())"
      ],
      "execution_count": 238,
      "outputs": [
        {
          "output_type": "stream",
          "text": [
            "53928 413247 53927\n"
          ],
          "name": "stdout"
        }
      ]
    }
  ]
}